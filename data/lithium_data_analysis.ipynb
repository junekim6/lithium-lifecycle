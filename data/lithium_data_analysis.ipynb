{
 "cells": [
  {
   "cell_type": "code",
   "execution_count": 1,
   "id": "4123ca3f",
   "metadata": {},
   "outputs": [],
   "source": [
    "%load_ext rpy2.ipython\n",
    "%load_ext autoreload\n",
    "%autoreload 2\n",
    "\n",
    "%matplotlib inline  \n",
    "from matplotlib import rcParams\n",
    "rcParams['figure.figsize'] = (16, 100)\n",
    "\n",
    "import warnings\n",
    "from rpy2.rinterface import RRuntimeWarning\n",
    "warnings.filterwarnings(\"ignore\") # Ignore all warnings\n",
    "# warnings.filterwarnings(\"ignore\", category=RRuntimeWarning) # Show some warnings\n",
    "import circlify as circ\n",
    "import pandas as pd\n",
    "import numpy as np\n",
    "import matplotlib.pyplot as plt\n",
    "from IPython.display import display, HTML\n",
    "from pywaffle import Waffle\n",
    "from pprint import pprint as pp\n",
    "import squarify\n"
   ]
  },
  {
   "cell_type": "code",
   "execution_count": 2,
   "id": "eb10e35c",
   "metadata": {},
   "outputs": [
    {
     "data": {
      "application/javascript": "// Disable auto-scrolling\nIPython.OutputArea.prototype._should_scroll = function(lines) {\n    return false;\n}\n",
      "text/plain": [
       "<IPython.core.display.Javascript object>"
      ]
     },
     "metadata": {},
     "output_type": "display_data"
    }
   ],
   "source": [
    "%%javascript\n",
    "// Disable auto-scrolling\n",
    "IPython.OutputArea.prototype._should_scroll = function(lines) {\n",
    "    return false;\n",
    "}"
   ]
  },
  {
   "cell_type": "code",
   "execution_count": 3,
   "id": "ec83eec8",
   "metadata": {},
   "outputs": [
    {
     "name": "stderr",
     "output_type": "stream",
     "text": [
      "R[write to console]: Loading required package: ggplot2\n",
      "\n",
      "R[write to console]: Need help? Try Stackoverflow: https://stackoverflow.com/tags/ggplot2\n",
      "\n",
      "R[write to console]: Loading required package: readr\n",
      "\n",
      "R[write to console]: Loading required package: extrafont\n",
      "\n",
      "R[write to console]: Registering fonts with R\n",
      "\n",
      "R[write to console]: Loading required package: dplyr\n",
      "\n",
      "R[write to console]: \n",
      "Attaching package: ‘dplyr’\n",
      "\n",
      "\n",
      "R[write to console]: The following objects are masked from ‘package:stats’:\n",
      "\n",
      "    filter, lag\n",
      "\n",
      "\n",
      "R[write to console]: The following objects are masked from ‘package:base’:\n",
      "\n",
      "    intersect, setdiff, setequal, union\n",
      "\n",
      "\n",
      "R[write to console]: Loading required package: reshape2\n",
      "\n"
     ]
    }
   ],
   "source": [
    "%%R\n",
    "\n",
    "# My commonly used R imports\n",
    "\n",
    "require('ggplot2')\n",
    "require('readr')\n",
    "require('extrafont')\n",
    "require('dplyr')\n",
    "require('reshape2')\n",
    "# require('theme538')"
   ]
  },
  {
   "cell_type": "code",
   "execution_count": 4,
   "id": "809ed069",
   "metadata": {
    "scrolled": true
   },
   "outputs": [
    {
     "data": {
      "text/html": [
       "<div>\n",
       "<style scoped>\n",
       "    .dataframe tbody tr th:only-of-type {\n",
       "        vertical-align: middle;\n",
       "    }\n",
       "\n",
       "    .dataframe tbody tr th {\n",
       "        vertical-align: top;\n",
       "    }\n",
       "\n",
       "    .dataframe thead th {\n",
       "        text-align: right;\n",
       "    }\n",
       "</style>\n",
       "<table border=\"1\" class=\"dataframe\">\n",
       "  <thead>\n",
       "    <tr style=\"text-align: right;\">\n",
       "      <th></th>\n",
       "      <th>country</th>\n",
       "      <th>reserve</th>\n",
       "      <th>reserve_in_1000_tons</th>\n",
       "    </tr>\n",
       "  </thead>\n",
       "  <tbody>\n",
       "    <tr>\n",
       "      <th>1</th>\n",
       "      <td>Bolivia</td>\n",
       "      <td>21000000</td>\n",
       "      <td>21000.0</td>\n",
       "    </tr>\n",
       "    <tr>\n",
       "      <th>2</th>\n",
       "      <td>Argentina</td>\n",
       "      <td>20000000</td>\n",
       "      <td>20000.0</td>\n",
       "    </tr>\n",
       "    <tr>\n",
       "      <th>0</th>\n",
       "      <td>United States</td>\n",
       "      <td>12000000</td>\n",
       "      <td>12000.0</td>\n",
       "    </tr>\n",
       "    <tr>\n",
       "      <th>3</th>\n",
       "      <td>Chile</td>\n",
       "      <td>11000000</td>\n",
       "      <td>11000.0</td>\n",
       "    </tr>\n",
       "    <tr>\n",
       "      <th>4</th>\n",
       "      <td>Australia</td>\n",
       "      <td>7900000</td>\n",
       "      <td>7900.0</td>\n",
       "    </tr>\n",
       "    <tr>\n",
       "      <th>5</th>\n",
       "      <td>China</td>\n",
       "      <td>6800000</td>\n",
       "      <td>6800.0</td>\n",
       "    </tr>\n",
       "    <tr>\n",
       "      <th>6</th>\n",
       "      <td>Germany</td>\n",
       "      <td>3200000</td>\n",
       "      <td>3200.0</td>\n",
       "    </tr>\n",
       "    <tr>\n",
       "      <th>7</th>\n",
       "      <td>Congo</td>\n",
       "      <td>3000000</td>\n",
       "      <td>3000.0</td>\n",
       "    </tr>\n",
       "    <tr>\n",
       "      <th>8</th>\n",
       "      <td>Canada</td>\n",
       "      <td>2900000</td>\n",
       "      <td>2900.0</td>\n",
       "    </tr>\n",
       "    <tr>\n",
       "      <th>9</th>\n",
       "      <td>Mexico</td>\n",
       "      <td>1700000</td>\n",
       "      <td>1700.0</td>\n",
       "    </tr>\n",
       "    <tr>\n",
       "      <th>10</th>\n",
       "      <td>Czechia</td>\n",
       "      <td>1300000</td>\n",
       "      <td>1300.0</td>\n",
       "    </tr>\n",
       "    <tr>\n",
       "      <th>11</th>\n",
       "      <td>Serbia</td>\n",
       "      <td>1200000</td>\n",
       "      <td>1200.0</td>\n",
       "    </tr>\n",
       "    <tr>\n",
       "      <th>12</th>\n",
       "      <td>Russia</td>\n",
       "      <td>1000000</td>\n",
       "      <td>1000.0</td>\n",
       "    </tr>\n",
       "    <tr>\n",
       "      <th>13</th>\n",
       "      <td>Peru</td>\n",
       "      <td>880000</td>\n",
       "      <td>880.0</td>\n",
       "    </tr>\n",
       "    <tr>\n",
       "      <th>14</th>\n",
       "      <td>Mali</td>\n",
       "      <td>840000</td>\n",
       "      <td>840.0</td>\n",
       "    </tr>\n",
       "    <tr>\n",
       "      <th>15</th>\n",
       "      <td>Brazil</td>\n",
       "      <td>730000</td>\n",
       "      <td>730.0</td>\n",
       "    </tr>\n",
       "    <tr>\n",
       "      <th>16</th>\n",
       "      <td>Zimbabwe</td>\n",
       "      <td>690000</td>\n",
       "      <td>690.0</td>\n",
       "    </tr>\n",
       "    <tr>\n",
       "      <th>17</th>\n",
       "      <td>Spain</td>\n",
       "      <td>320000</td>\n",
       "      <td>320.0</td>\n",
       "    </tr>\n",
       "    <tr>\n",
       "      <th>18</th>\n",
       "      <td>Portugal</td>\n",
       "      <td>270000</td>\n",
       "      <td>270.0</td>\n",
       "    </tr>\n",
       "    <tr>\n",
       "      <th>19</th>\n",
       "      <td>Namibia</td>\n",
       "      <td>230000</td>\n",
       "      <td>230.0</td>\n",
       "    </tr>\n",
       "    <tr>\n",
       "      <th>20</th>\n",
       "      <td>Ghana</td>\n",
       "      <td>180000</td>\n",
       "      <td>180.0</td>\n",
       "    </tr>\n",
       "    <tr>\n",
       "      <th>24</th>\n",
       "      <td>Others</td>\n",
       "      <td>178000</td>\n",
       "      <td>178.0</td>\n",
       "    </tr>\n",
       "  </tbody>\n",
       "</table>\n",
       "</div>"
      ],
      "text/plain": [
       "          country   reserve  reserve_in_1000_tons\n",
       "1         Bolivia  21000000               21000.0\n",
       "2       Argentina  20000000               20000.0\n",
       "0   United States  12000000               12000.0\n",
       "3           Chile  11000000               11000.0\n",
       "4      Australia    7900000                7900.0\n",
       "5           China   6800000                6800.0\n",
       "6         Germany   3200000                3200.0\n",
       "7           Congo   3000000                3000.0\n",
       "8          Canada   2900000                2900.0\n",
       "9          Mexico   1700000                1700.0\n",
       "10        Czechia   1300000                1300.0\n",
       "11         Serbia   1200000                1200.0\n",
       "12         Russia   1000000                1000.0\n",
       "13           Peru    880000                 880.0\n",
       "14           Mali    840000                 840.0\n",
       "15         Brazil    730000                 730.0\n",
       "16       Zimbabwe    690000                 690.0\n",
       "17          Spain    320000                 320.0\n",
       "18       Portugal    270000                 270.0\n",
       "19        Namibia    230000                 230.0\n",
       "20          Ghana    180000                 180.0\n",
       "24         Others    178000                 178.0"
      ]
     },
     "execution_count": 4,
     "metadata": {},
     "output_type": "execute_result"
    }
   ],
   "source": [
    "reserve_df = pd.read_csv(\"global_lithium_reserves.csv\")\n",
    "# reserve_df['reserve_in_100k_tons(rounded)'] = round(reserve_df['reserve'].apply(lambda x: x/100000))\n",
    "\n",
    "# Add a new row for the rest of the countries\n",
    "reserve_df = reserve_df.append({'country': 'Others', 'reserve': reserve_df[reserve_df['country'].isin(['Finland', 'Austria', 'Kazakhstan'])]['reserve'].sum()}, ignore_index=True)\n",
    "\n",
    "# Drop Finland, Austria, Kazakhstan from the country column.\n",
    "reserve_df = reserve_df[~reserve_df['country'].isin(['Finland', 'Austria', 'Kazakhstan'])]\n",
    "\n",
    "reserve_df.sort_values(by='reserve', ascending=False, inplace=True)\n",
    "reserve_df['reserve_in_1000_tons'] = reserve_df['reserve'].apply(lambda x: x/1000)\n",
    "\n",
    "reserve_df"
   ]
  },
  {
   "cell_type": "code",
   "execution_count": 5,
   "id": "078ecaa5",
   "metadata": {},
   "outputs": [],
   "source": [
    "# plt.figure(FigureClass=Waffle, figsize=(100,20), rows=30, columns = 60, \n",
    "#                 values=list(reserve_df['reserve_in_1000_tons']),\n",
    "#                 labels=list(reserve_df['country']),\n",
    "#                 legend={'loc':'lower center', 'bbox_to_anchor': (0.5, -0.1), \n",
    "#                         'ncol':3, 'fontsize':8})"
   ]
  },
  {
   "cell_type": "code",
   "execution_count": 6,
   "id": "3246e5dc",
   "metadata": {},
   "outputs": [],
   "source": [
    "total_global_reserve = reserve_df['reserve'].sum()"
   ]
  },
  {
   "cell_type": "code",
   "execution_count": 28,
   "id": "1f36688f",
   "metadata": {
    "scrolled": true
   },
   "outputs": [],
   "source": [
    "production_df = pd.read_csv(\"global_production.csv\")\n",
    "\n",
    "production_df['production_in_tons'] = production_df['production'].apply(lambda x: x*1000)\n",
    "# drop \"production\" column.\n",
    "production_df.drop('production', axis=1, inplace=True)\n",
    "production_df['production_in_1000_tons'] = round(production_df['production_in_tons'].apply(lambda x: x/1000))\n",
    "\n",
    "production_df\n",
    "\n",
    "# Add 12 rows to the production_df and fill them with the sum of the production of all countries in each year, from 2011 to 2022.\n",
    "for year in range(2011, 2023):\n",
    "    production_df = production_df.append({'year': year, 'country': 'Total', 'production_in_tons': production_df[production_df['year'] == year]['production_in_tons'].sum()}, ignore_index=True)\n",
    "\n",
    "production_df.to_csv(\"production_with_total.csv\", index=False)\n"
   ]
  },
  {
   "cell_type": "code",
   "execution_count": 8,
   "id": "0761788d",
   "metadata": {},
   "outputs": [],
   "source": [
    "total_global_production = production_df['production_in_tons'].sum()"
   ]
  },
  {
   "cell_type": "code",
   "execution_count": 9,
   "id": "71dbd47e",
   "metadata": {},
   "outputs": [
    {
     "data": {
      "text/html": [
       "<div>\n",
       "<style scoped>\n",
       "    .dataframe tbody tr th:only-of-type {\n",
       "        vertical-align: middle;\n",
       "    }\n",
       "\n",
       "    .dataframe tbody tr th {\n",
       "        vertical-align: top;\n",
       "    }\n",
       "\n",
       "    .dataframe thead th {\n",
       "        text-align: right;\n",
       "    }\n",
       "</style>\n",
       "<table border=\"1\" class=\"dataframe\">\n",
       "  <thead>\n",
       "    <tr style=\"text-align: right;\">\n",
       "      <th></th>\n",
       "      <th>type</th>\n",
       "      <th>value</th>\n",
       "    </tr>\n",
       "  </thead>\n",
       "  <tbody>\n",
       "    <tr>\n",
       "      <th>0</th>\n",
       "      <td>reserve</td>\n",
       "      <td>97318000.0</td>\n",
       "    </tr>\n",
       "    <tr>\n",
       "      <th>1</th>\n",
       "      <td>production</td>\n",
       "      <td>749300.0</td>\n",
       "    </tr>\n",
       "  </tbody>\n",
       "</table>\n",
       "</div>"
      ],
      "text/plain": [
       "         type       value\n",
       "0     reserve  97318000.0\n",
       "1  production    749300.0"
      ]
     },
     "execution_count": 9,
     "metadata": {},
     "output_type": "execute_result"
    }
   ],
   "source": [
    "# Create dataframe of total global reserve and total global production\n",
    "total_df = pd.DataFrame({'reserve': [total_global_reserve], 'production': [total_global_production]})\n",
    "\n",
    "total_transposed = total_df.T.reset_index()\n",
    "total_transposed.columns = ['type', 'value']\n",
    "\n",
    "total_transposed.to_csv('total_transposed.csv', index=False)\n",
    "\n",
    "total_transposed"
   ]
  },
  {
   "cell_type": "code",
   "execution_count": 10,
   "id": "73a31ff4",
   "metadata": {},
   "outputs": [
    {
     "name": "stdout",
     "output_type": "stream",
     "text": [
      "[Circle(x=-0.9193315959122236, y=0.0, r=0.08066840408777637, level=1, ex={'datum': 749300}),\n",
      " Circle(x=0.08066840408777642, y=0.0, r=0.9193315959122236, level=1, ex={'datum': 97318000})]\n"
     ]
    }
   ],
   "source": [
    "circles = circ.circlify([97318000, 749300])\n",
    "\n",
    "pp(circles)\n",
    "\n",
    "\n"
   ]
  },
  {
   "cell_type": "code",
   "execution_count": 22,
   "id": "8229f5a3",
   "metadata": {},
   "outputs": [
    {
     "data": {
      "text/html": [
       "<div>\n",
       "<style scoped>\n",
       "    .dataframe tbody tr th:only-of-type {\n",
       "        vertical-align: middle;\n",
       "    }\n",
       "\n",
       "    .dataframe tbody tr th {\n",
       "        vertical-align: top;\n",
       "    }\n",
       "\n",
       "    .dataframe thead th {\n",
       "        text-align: right;\n",
       "    }\n",
       "</style>\n",
       "<table border=\"1\" class=\"dataframe\">\n",
       "  <thead>\n",
       "    <tr style=\"text-align: right;\">\n",
       "      <th></th>\n",
       "      <th>year</th>\n",
       "      <th>country</th>\n",
       "      <th>production</th>\n",
       "      <th>reserve</th>\n",
       "      <th>reserve_in_1000_tons</th>\n",
       "    </tr>\n",
       "  </thead>\n",
       "  <tbody>\n",
       "    <tr>\n",
       "      <th>0</th>\n",
       "      <td>NaN</td>\n",
       "      <td>Bolivia</td>\n",
       "      <td>NaN</td>\n",
       "      <td>21000000</td>\n",
       "      <td>21000.0</td>\n",
       "    </tr>\n",
       "    <tr>\n",
       "      <th>1</th>\n",
       "      <td>2022.0</td>\n",
       "      <td>Argentina</td>\n",
       "      <td>6.2</td>\n",
       "      <td>20000000</td>\n",
       "      <td>20000.0</td>\n",
       "    </tr>\n",
       "    <tr>\n",
       "      <th>2</th>\n",
       "      <td>2022.0</td>\n",
       "      <td>United States</td>\n",
       "      <td>0.6</td>\n",
       "      <td>12000000</td>\n",
       "      <td>12000.0</td>\n",
       "    </tr>\n",
       "    <tr>\n",
       "      <th>3</th>\n",
       "      <td>2022.0</td>\n",
       "      <td>Chile</td>\n",
       "      <td>39.0</td>\n",
       "      <td>11000000</td>\n",
       "      <td>11000.0</td>\n",
       "    </tr>\n",
       "    <tr>\n",
       "      <th>4</th>\n",
       "      <td>2022.0</td>\n",
       "      <td>Australia</td>\n",
       "      <td>61.0</td>\n",
       "      <td>7900000</td>\n",
       "      <td>7900.0</td>\n",
       "    </tr>\n",
       "    <tr>\n",
       "      <th>5</th>\n",
       "      <td>2022.0</td>\n",
       "      <td>China</td>\n",
       "      <td>19.0</td>\n",
       "      <td>6800000</td>\n",
       "      <td>6800.0</td>\n",
       "    </tr>\n",
       "    <tr>\n",
       "      <th>6</th>\n",
       "      <td>NaN</td>\n",
       "      <td>Germany</td>\n",
       "      <td>NaN</td>\n",
       "      <td>3200000</td>\n",
       "      <td>3200.0</td>\n",
       "    </tr>\n",
       "    <tr>\n",
       "      <th>7</th>\n",
       "      <td>NaN</td>\n",
       "      <td>Congo</td>\n",
       "      <td>NaN</td>\n",
       "      <td>3000000</td>\n",
       "      <td>3000.0</td>\n",
       "    </tr>\n",
       "    <tr>\n",
       "      <th>8</th>\n",
       "      <td>NaN</td>\n",
       "      <td>Canada</td>\n",
       "      <td>NaN</td>\n",
       "      <td>2900000</td>\n",
       "      <td>2900.0</td>\n",
       "    </tr>\n",
       "    <tr>\n",
       "      <th>9</th>\n",
       "      <td>NaN</td>\n",
       "      <td>Mexico</td>\n",
       "      <td>NaN</td>\n",
       "      <td>1700000</td>\n",
       "      <td>1700.0</td>\n",
       "    </tr>\n",
       "    <tr>\n",
       "      <th>10</th>\n",
       "      <td>NaN</td>\n",
       "      <td>Czechia</td>\n",
       "      <td>NaN</td>\n",
       "      <td>1300000</td>\n",
       "      <td>1300.0</td>\n",
       "    </tr>\n",
       "    <tr>\n",
       "      <th>11</th>\n",
       "      <td>NaN</td>\n",
       "      <td>Serbia</td>\n",
       "      <td>NaN</td>\n",
       "      <td>1200000</td>\n",
       "      <td>1200.0</td>\n",
       "    </tr>\n",
       "    <tr>\n",
       "      <th>12</th>\n",
       "      <td>NaN</td>\n",
       "      <td>Russia</td>\n",
       "      <td>NaN</td>\n",
       "      <td>1000000</td>\n",
       "      <td>1000.0</td>\n",
       "    </tr>\n",
       "    <tr>\n",
       "      <th>13</th>\n",
       "      <td>NaN</td>\n",
       "      <td>Peru</td>\n",
       "      <td>NaN</td>\n",
       "      <td>880000</td>\n",
       "      <td>880.0</td>\n",
       "    </tr>\n",
       "    <tr>\n",
       "      <th>14</th>\n",
       "      <td>NaN</td>\n",
       "      <td>Mali</td>\n",
       "      <td>NaN</td>\n",
       "      <td>840000</td>\n",
       "      <td>840.0</td>\n",
       "    </tr>\n",
       "    <tr>\n",
       "      <th>15</th>\n",
       "      <td>2022.0</td>\n",
       "      <td>Brazil</td>\n",
       "      <td>2.2</td>\n",
       "      <td>730000</td>\n",
       "      <td>730.0</td>\n",
       "    </tr>\n",
       "    <tr>\n",
       "      <th>16</th>\n",
       "      <td>2022.0</td>\n",
       "      <td>Zimbabwe</td>\n",
       "      <td>0.8</td>\n",
       "      <td>690000</td>\n",
       "      <td>690.0</td>\n",
       "    </tr>\n",
       "    <tr>\n",
       "      <th>17</th>\n",
       "      <td>NaN</td>\n",
       "      <td>Spain</td>\n",
       "      <td>NaN</td>\n",
       "      <td>320000</td>\n",
       "      <td>320.0</td>\n",
       "    </tr>\n",
       "    <tr>\n",
       "      <th>18</th>\n",
       "      <td>2022.0</td>\n",
       "      <td>Portugal</td>\n",
       "      <td>0.6</td>\n",
       "      <td>270000</td>\n",
       "      <td>270.0</td>\n",
       "    </tr>\n",
       "    <tr>\n",
       "      <th>19</th>\n",
       "      <td>NaN</td>\n",
       "      <td>Namibia</td>\n",
       "      <td>NaN</td>\n",
       "      <td>230000</td>\n",
       "      <td>230.0</td>\n",
       "    </tr>\n",
       "    <tr>\n",
       "      <th>20</th>\n",
       "      <td>NaN</td>\n",
       "      <td>Ghana</td>\n",
       "      <td>NaN</td>\n",
       "      <td>180000</td>\n",
       "      <td>180.0</td>\n",
       "    </tr>\n",
       "    <tr>\n",
       "      <th>21</th>\n",
       "      <td>2022.0</td>\n",
       "      <td>Others</td>\n",
       "      <td>0.0</td>\n",
       "      <td>178000</td>\n",
       "      <td>178.0</td>\n",
       "    </tr>\n",
       "  </tbody>\n",
       "</table>\n",
       "</div>"
      ],
      "text/plain": [
       "      year        country  production   reserve  reserve_in_1000_tons\n",
       "0      NaN        Bolivia         NaN  21000000               21000.0\n",
       "1   2022.0      Argentina         6.2  20000000               20000.0\n",
       "2   2022.0  United States         0.6  12000000               12000.0\n",
       "3   2022.0          Chile        39.0  11000000               11000.0\n",
       "4   2022.0     Australia         61.0   7900000                7900.0\n",
       "5   2022.0          China        19.0   6800000                6800.0\n",
       "6      NaN        Germany         NaN   3200000                3200.0\n",
       "7      NaN          Congo         NaN   3000000                3000.0\n",
       "8      NaN         Canada         NaN   2900000                2900.0\n",
       "9      NaN         Mexico         NaN   1700000                1700.0\n",
       "10     NaN        Czechia         NaN   1300000                1300.0\n",
       "11     NaN         Serbia         NaN   1200000                1200.0\n",
       "12     NaN         Russia         NaN   1000000                1000.0\n",
       "13     NaN           Peru         NaN    880000                 880.0\n",
       "14     NaN           Mali         NaN    840000                 840.0\n",
       "15  2022.0         Brazil         2.2    730000                 730.0\n",
       "16  2022.0       Zimbabwe         0.8    690000                 690.0\n",
       "17     NaN          Spain         NaN    320000                 320.0\n",
       "18  2022.0       Portugal         0.6    270000                 270.0\n",
       "19     NaN        Namibia         NaN    230000                 230.0\n",
       "20     NaN          Ghana         NaN    180000                 180.0\n",
       "21  2022.0         Others         0.0    178000                 178.0"
      ]
     },
     "execution_count": 22,
     "metadata": {},
     "output_type": "execute_result"
    }
   ],
   "source": [
    "production_2022 = production_df[production_df.year==2022].head(50)\n",
    "\n",
    "production_2022_vs_reserve = production_2022.merge(reserve_df, on='country', how='right')\n",
    "\n",
    "production_2022_vs_reserve.to_csv('production_2022_vs_reserve.csv', index=False)\n",
    "\n",
    "production_2022_vs_reserve"
   ]
  },
  {
   "cell_type": "code",
   "execution_count": 12,
   "id": "dd3fb043",
   "metadata": {},
   "outputs": [],
   "source": [
    "production_df.pivot(index='country', columns='year', values='production_in_1000_tons').fillna(0).reset_index().to_csv('production_pivot_country.csv', index=False)"
   ]
  },
  {
   "cell_type": "code",
   "execution_count": 13,
   "id": "a172d5ba",
   "metadata": {},
   "outputs": [
    {
     "data": {
      "text/html": [
       "<div>\n",
       "<style scoped>\n",
       "    .dataframe tbody tr th:only-of-type {\n",
       "        vertical-align: middle;\n",
       "    }\n",
       "\n",
       "    .dataframe tbody tr th {\n",
       "        vertical-align: top;\n",
       "    }\n",
       "\n",
       "    .dataframe thead th {\n",
       "        text-align: right;\n",
       "    }\n",
       "</style>\n",
       "<table border=\"1\" class=\"dataframe\">\n",
       "  <thead>\n",
       "    <tr style=\"text-align: right;\">\n",
       "      <th>country</th>\n",
       "      <th>year</th>\n",
       "      <th>Argentina</th>\n",
       "      <th>Australia</th>\n",
       "      <th>Brazil</th>\n",
       "      <th>Chile</th>\n",
       "      <th>China</th>\n",
       "      <th>Others</th>\n",
       "      <th>Portugal</th>\n",
       "      <th>United States</th>\n",
       "      <th>Zimbabwe</th>\n",
       "      <th>total</th>\n",
       "    </tr>\n",
       "  </thead>\n",
       "  <tbody>\n",
       "    <tr>\n",
       "      <th>0</th>\n",
       "      <td>2011</td>\n",
       "      <td>3000.0</td>\n",
       "      <td>11700.0</td>\n",
       "      <td>300.0</td>\n",
       "      <td>11900.0</td>\n",
       "      <td>4100.0</td>\n",
       "      <td>0.0</td>\n",
       "      <td>600.0</td>\n",
       "      <td>1000.0</td>\n",
       "      <td>500.0</td>\n",
       "      <td>35111.0</td>\n",
       "    </tr>\n",
       "    <tr>\n",
       "      <th>1</th>\n",
       "      <td>2012</td>\n",
       "      <td>2700.0</td>\n",
       "      <td>12700.0</td>\n",
       "      <td>200.0</td>\n",
       "      <td>12300.0</td>\n",
       "      <td>4500.0</td>\n",
       "      <td>0.0</td>\n",
       "      <td>300.0</td>\n",
       "      <td>1000.0</td>\n",
       "      <td>1100.0</td>\n",
       "      <td>36812.0</td>\n",
       "    </tr>\n",
       "    <tr>\n",
       "      <th>2</th>\n",
       "      <td>2013</td>\n",
       "      <td>2500.0</td>\n",
       "      <td>10100.0</td>\n",
       "      <td>400.0</td>\n",
       "      <td>10500.0</td>\n",
       "      <td>4700.0</td>\n",
       "      <td>0.0</td>\n",
       "      <td>300.0</td>\n",
       "      <td>900.0</td>\n",
       "      <td>1000.0</td>\n",
       "      <td>32413.0</td>\n",
       "    </tr>\n",
       "    <tr>\n",
       "      <th>3</th>\n",
       "      <td>2014</td>\n",
       "      <td>3200.0</td>\n",
       "      <td>12400.0</td>\n",
       "      <td>200.0</td>\n",
       "      <td>10800.0</td>\n",
       "      <td>2300.0</td>\n",
       "      <td>0.0</td>\n",
       "      <td>300.0</td>\n",
       "      <td>900.0</td>\n",
       "      <td>900.0</td>\n",
       "      <td>33014.0</td>\n",
       "    </tr>\n",
       "    <tr>\n",
       "      <th>4</th>\n",
       "      <td>2015</td>\n",
       "      <td>3600.0</td>\n",
       "      <td>11900.0</td>\n",
       "      <td>100.0</td>\n",
       "      <td>9800.0</td>\n",
       "      <td>2000.0</td>\n",
       "      <td>0.0</td>\n",
       "      <td>300.0</td>\n",
       "      <td>900.0</td>\n",
       "      <td>900.0</td>\n",
       "      <td>31515.0</td>\n",
       "    </tr>\n",
       "    <tr>\n",
       "      <th>5</th>\n",
       "      <td>2016</td>\n",
       "      <td>5800.0</td>\n",
       "      <td>14000.0</td>\n",
       "      <td>200.0</td>\n",
       "      <td>13600.0</td>\n",
       "      <td>2300.0</td>\n",
       "      <td>0.0</td>\n",
       "      <td>400.0</td>\n",
       "      <td>900.0</td>\n",
       "      <td>1000.0</td>\n",
       "      <td>40216.0</td>\n",
       "    </tr>\n",
       "    <tr>\n",
       "      <th>6</th>\n",
       "      <td>2017</td>\n",
       "      <td>5700.0</td>\n",
       "      <td>21300.0</td>\n",
       "      <td>300.0</td>\n",
       "      <td>14200.0</td>\n",
       "      <td>6800.0</td>\n",
       "      <td>100.0</td>\n",
       "      <td>800.0</td>\n",
       "      <td>900.0</td>\n",
       "      <td>800.0</td>\n",
       "      <td>52917.0</td>\n",
       "    </tr>\n",
       "    <tr>\n",
       "      <th>7</th>\n",
       "      <td>2018</td>\n",
       "      <td>6400.0</td>\n",
       "      <td>57000.0</td>\n",
       "      <td>1000.0</td>\n",
       "      <td>17000.0</td>\n",
       "      <td>7100.0</td>\n",
       "      <td>3000.0</td>\n",
       "      <td>1200.0</td>\n",
       "      <td>900.0</td>\n",
       "      <td>1600.0</td>\n",
       "      <td>97218.0</td>\n",
       "    </tr>\n",
       "    <tr>\n",
       "      <th>8</th>\n",
       "      <td>2019</td>\n",
       "      <td>6300.0</td>\n",
       "      <td>45000.0</td>\n",
       "      <td>2200.0</td>\n",
       "      <td>19200.0</td>\n",
       "      <td>10800.0</td>\n",
       "      <td>400.0</td>\n",
       "      <td>900.0</td>\n",
       "      <td>900.0</td>\n",
       "      <td>1200.0</td>\n",
       "      <td>88919.0</td>\n",
       "    </tr>\n",
       "    <tr>\n",
       "      <th>9</th>\n",
       "      <td>2020</td>\n",
       "      <td>5900.0</td>\n",
       "      <td>40000.0</td>\n",
       "      <td>1400.0</td>\n",
       "      <td>21600.0</td>\n",
       "      <td>13300.0</td>\n",
       "      <td>100.0</td>\n",
       "      <td>300.0</td>\n",
       "      <td>900.0</td>\n",
       "      <td>400.0</td>\n",
       "      <td>85920.0</td>\n",
       "    </tr>\n",
       "    <tr>\n",
       "      <th>10</th>\n",
       "      <td>2021</td>\n",
       "      <td>6000.0</td>\n",
       "      <td>55400.0</td>\n",
       "      <td>1500.0</td>\n",
       "      <td>26000.0</td>\n",
       "      <td>14000.0</td>\n",
       "      <td>100.0</td>\n",
       "      <td>900.0</td>\n",
       "      <td>900.0</td>\n",
       "      <td>1200.0</td>\n",
       "      <td>108021.0</td>\n",
       "    </tr>\n",
       "    <tr>\n",
       "      <th>11</th>\n",
       "      <td>2022</td>\n",
       "      <td>6200.0</td>\n",
       "      <td>61000.0</td>\n",
       "      <td>2200.0</td>\n",
       "      <td>39000.0</td>\n",
       "      <td>19000.0</td>\n",
       "      <td>0.0</td>\n",
       "      <td>600.0</td>\n",
       "      <td>600.0</td>\n",
       "      <td>800.0</td>\n",
       "      <td>131422.0</td>\n",
       "    </tr>\n",
       "  </tbody>\n",
       "</table>\n",
       "</div>"
      ],
      "text/plain": [
       "country  year  Argentina  Australia   Brazil    Chile    China  Others  \\\n",
       "0        2011     3000.0     11700.0   300.0  11900.0   4100.0     0.0   \n",
       "1        2012     2700.0     12700.0   200.0  12300.0   4500.0     0.0   \n",
       "2        2013     2500.0     10100.0   400.0  10500.0   4700.0     0.0   \n",
       "3        2014     3200.0     12400.0   200.0  10800.0   2300.0     0.0   \n",
       "4        2015     3600.0     11900.0   100.0   9800.0   2000.0     0.0   \n",
       "5        2016     5800.0     14000.0   200.0  13600.0   2300.0     0.0   \n",
       "6        2017     5700.0     21300.0   300.0  14200.0   6800.0   100.0   \n",
       "7        2018     6400.0     57000.0  1000.0  17000.0   7100.0  3000.0   \n",
       "8        2019     6300.0     45000.0  2200.0  19200.0  10800.0   400.0   \n",
       "9        2020     5900.0     40000.0  1400.0  21600.0  13300.0   100.0   \n",
       "10       2021     6000.0     55400.0  1500.0  26000.0  14000.0   100.0   \n",
       "11       2022     6200.0     61000.0  2200.0  39000.0  19000.0     0.0   \n",
       "\n",
       "country  Portugal  United States  Zimbabwe     total  \n",
       "0           600.0         1000.0     500.0   35111.0  \n",
       "1           300.0         1000.0    1100.0   36812.0  \n",
       "2           300.0          900.0    1000.0   32413.0  \n",
       "3           300.0          900.0     900.0   33014.0  \n",
       "4           300.0          900.0     900.0   31515.0  \n",
       "5           400.0          900.0    1000.0   40216.0  \n",
       "6           800.0          900.0     800.0   52917.0  \n",
       "7          1200.0          900.0    1600.0   97218.0  \n",
       "8           900.0          900.0    1200.0   88919.0  \n",
       "9           300.0          900.0     400.0   85920.0  \n",
       "10          900.0          900.0    1200.0  108021.0  \n",
       "11          600.0          600.0     800.0  131422.0  "
      ]
     },
     "execution_count": 13,
     "metadata": {},
     "output_type": "execute_result"
    }
   ],
   "source": [
    "production_df_transposed = production_df.pivot(index='year', columns='country', values='production_in_tons')\n",
    "\n",
    "production_df_transposed.reset_index(inplace=True)\n",
    "\n",
    "# Add a column with total production_in_tons.\n",
    "production_df_transposed['total'] = production_df_transposed.sum(axis=1)\n",
    "\n",
    "production_df_transposed.to_csv('production_df_transposed.csv', index=False)\n",
    "\n",
    "production_df_transposed"
   ]
  },
  {
   "attachments": {},
   "cell_type": "markdown",
   "id": "509252c7",
   "metadata": {},
   "source": [
    "# U.S. import by country"
   ]
  },
  {
   "cell_type": "code",
   "execution_count": 14,
   "id": "dada1023",
   "metadata": {},
   "outputs": [
    {
     "data": {
      "text/html": [
       "<div>\n",
       "<style scoped>\n",
       "    .dataframe tbody tr th:only-of-type {\n",
       "        vertical-align: middle;\n",
       "    }\n",
       "\n",
       "    .dataframe tbody tr th {\n",
       "        vertical-align: top;\n",
       "    }\n",
       "\n",
       "    .dataframe thead th {\n",
       "        text-align: right;\n",
       "    }\n",
       "</style>\n",
       "<table border=\"1\" class=\"dataframe\">\n",
       "  <thead>\n",
       "    <tr style=\"text-align: right;\">\n",
       "      <th></th>\n",
       "      <th>country</th>\n",
       "      <th>import_share</th>\n",
       "    </tr>\n",
       "  </thead>\n",
       "  <tbody>\n",
       "    <tr>\n",
       "      <th>0</th>\n",
       "      <td>Argentina</td>\n",
       "      <td>51</td>\n",
       "    </tr>\n",
       "    <tr>\n",
       "      <th>1</th>\n",
       "      <td>Chile</td>\n",
       "      <td>40</td>\n",
       "    </tr>\n",
       "    <tr>\n",
       "      <th>2</th>\n",
       "      <td>China</td>\n",
       "      <td>4</td>\n",
       "    </tr>\n",
       "    <tr>\n",
       "      <th>3</th>\n",
       "      <td>Russia</td>\n",
       "      <td>3</td>\n",
       "    </tr>\n",
       "    <tr>\n",
       "      <th>4</th>\n",
       "      <td>Other</td>\n",
       "      <td>2</td>\n",
       "    </tr>\n",
       "  </tbody>\n",
       "</table>\n",
       "</div>"
      ],
      "text/plain": [
       "     country  import_share\n",
       "0  Argentina            51\n",
       "1      Chile            40\n",
       "2      China             4\n",
       "3     Russia             3\n",
       "4      Other             2"
      ]
     },
     "execution_count": 14,
     "metadata": {},
     "output_type": "execute_result"
    }
   ],
   "source": [
    "# Create dataframe.\n",
    "import_countries_df = pd.DataFrame({'country': ['Argentina', 'Chile', 'China', 'Russia', 'Other'], 'import_share': [51, 40, 4, 3, 2]})\n",
    "\n",
    "import_countries_df"
   ]
  },
  {
   "cell_type": "code",
   "execution_count": 15,
   "id": "bab05b42",
   "metadata": {},
   "outputs": [
    {
     "data": {
      "image/png": "[encoded data removed]",
      "text/plain": [
       "<Figure size 1000x700 with 1 Axes>"
      ]
     },
     "metadata": {},
     "output_type": "display_data"
    }
   ],
   "source": [
    "squarify.plot(sizes=import_countries_df['import_share'], label=import_countries_df['country'], alpha=.8 )\n",
    "plt.axis('off')\n",
    "# set figsize\n",
    "plt.gcf().set_size_inches(10, 7)\n",
    "\n",
    "plt.savefig('us_import.svg')\n"
   ]
  },
  {
   "attachments": {},
   "cell_type": "markdown",
   "id": "34b46fe5",
   "metadata": {},
   "source": [
    "# Create Sankey Diagram"
   ]
  },
  {
   "cell_type": "code",
   "execution_count": 16,
   "id": "203aa0f3",
   "metadata": {},
   "outputs": [
    {
     "data": {
      "application/vnd.plotly.v1+json": {
       "config": {
        "plotlyServerURL": "https://plot.ly"
       },
       "data": [
        {
         "link": {
          "color": [
           "rgba(31, 119, 180, 0.4)",
           "rgba(255, 127, 14, 0.4)",
           "rgba(255, 127, 14, 0.4)",
           "rgba(255, 127, 14, 0.4)",
           "rgba(255, 127, 14, 0.4)",
           "rgba(227, 119, 194, 0.4)",
           "rgba(127, 127, 127, 0.4)",
           "rgba(188, 189, 34, 0.4)",
           "rgba(31, 119, 180, 0.4)",
           "rgba(23, 190, 207, 0.4)",
           "rgba(255, 127, 14, 0.4)",
           "rgba(255, 127, 14, 0.4)",
           "rgba(255, 127, 14, 0.4)",
           "rgba(140, 86, 75, 0.4)",
           "rgba(140, 86, 75, 0.4)",
           "rgba(140, 86, 75, 0.4)",
           "rgba(140, 86, 75, 0.4)",
           "rgba(140, 86, 75, 0.4)",
           "rgba(140, 86, 75, 0.4)",
           "rgba(140, 86, 75, 0.4)",
           "rgba(140, 86, 75, 0.4)",
           "rgba(140, 86, 75, 0.4)",
           "rgba(140, 86, 75, 0.4)",
           "rgba(140, 86, 75, 0.4)",
           "rgba(214, 39, 40, 0.4)",
           "rgba(140, 86, 75, 0.4)",
           "rgba(140, 86, 75, 0.4)",
           "rgba(140, 86, 75, 0.4)",
           "rgba(140, 86, 75, 0.4)",
           "rgba(140, 86, 75, 0.4)",
           "rgba(140, 86, 75, 0.4)",
           "rgba(127, 127, 127, 0.4)",
           "rgba(127, 127, 127, 0.4)",
           "rgba(127, 127, 127, 0.4)",
           "rgba(188, 189, 34, 0.4)",
           "rgba(23, 190, 207, 0.4)",
           "rgba(44, 160, 44, 0.4)",
           "rgba(44, 160, 44, 0.4)",
           "rgba(44, 160, 44, 0.4)",
           "rgba(44, 160, 44, 0.4)",
           "rgba(44, 160, 44, 0.4)",
           "rgba(44, 160, 44, 0.4)",
           "rgba(44, 160, 44, 0.4)",
           "rgba(44, 160, 44, 0.4)",
           "rgba(148, 103, 189, 0.4)",
           "rgba(148, 103, 189, 0.4)",
           "rgba(255,0,255, 0.4)",
           "rgba(255,0,255, 0.4)",
           "rgba(227, 119, 194, 0.4)",
           "rgba(188, 189, 34, 0.4)",
           "rgba(127, 127, 127, 0.4)",
           "rgba(23, 190, 207, 0.4)",
           "rgba(23, 190, 207, 0.4)",
           "rgba(31, 119, 180, 0.4)",
           "rgba(31, 119, 180, 0.4)",
           "rgba(255, 127, 14, 0.4)",
           "rgba(44, 160, 44, 0.4)",
           "rgba(214, 39, 40, 0.4)",
           "rgba(214, 39, 40, 0.4)",
           "rgba(148, 103, 189, 0.4)",
           "rgba(148, 103, 189, 0.4)",
           "rgba(148, 103, 189, 0.4)",
           "rgba(227, 119, 194, 0.4)",
           "rgba(227, 119, 194, 0.4)",
           "rgba(227, 119, 194, 0.4)",
           "rgba(148, 103, 189, 0.4)",
           "rgba(140, 86, 75, 0.4)",
           "rgba(227, 119, 194, 0.4)",
           "rgba(127, 127, 127, 0.4)",
           "rgba(255,0,255, 0.4)",
           "rgba(255,0,255, 0.4)"
          ],
          "label": [
           "stream 1",
           "",
           "",
           "",
           "stream 1",
           "",
           "",
           "",
           "",
           "",
           "",
           "",
           "",
           "",
           "",
           "",
           "",
           "",
           "",
           "",
           "",
           "",
           "",
           "",
           "",
           "",
           "",
           "",
           "",
           "",
           "stream 1",
           "",
           "",
           "",
           "",
           "",
           "",
           "",
           "",
           "",
           "",
           "",
           "",
           "",
           "",
           "",
           "Old generation plant (made-up)",
           "New generation plant (made-up)",
           "",
           "",
           "",
           "",
           "",
           "",
           "",
           "",
           "",
           "",
           "",
           "",
           "",
           "",
           "",
           "",
           "",
           "",
           "",
           "",
           "",
           "",
           ""
          ],
          "source": [
           0,
           1,
           1,
           1,
           1,
           6,
           7,
           8,
           10,
           9,
           11,
           11,
           11,
           15,
           15,
           15,
           15,
           15,
           15,
           15,
           15,
           15,
           15,
           15,
           23,
           25,
           5,
           5,
           5,
           5,
           5,
           27,
           17,
           17,
           28,
           29,
           2,
           2,
           2,
           2,
           2,
           2,
           2,
           2,
           34,
           24,
           35,
           35,
           36,
           38,
           37,
           39,
           39,
           40,
           40,
           41,
           42,
           43,
           43,
           4,
           4,
           4,
           26,
           26,
           26,
           44,
           45,
           46,
           47,
           35,
           35
          ],
          "target": [
           1,
           2,
           3,
           4,
           5,
           2,
           4,
           9,
           9,
           4,
           12,
           13,
           14,
           16,
           14,
           17,
           12,
           18,
           19,
           13,
           3,
           20,
           21,
           22,
           24,
           24,
           13,
           3,
           26,
           19,
           12,
           15,
           28,
           3,
           18,
           15,
           12,
           30,
           18,
           31,
           32,
           19,
           33,
           20,
           1,
           5,
           26,
           26,
           37,
           37,
           2,
           4,
           1,
           14,
           13,
           15,
           14,
           42,
           41,
           19,
           26,
           12,
           15,
           3,
           11,
           15,
           1,
           15,
           15,
           26,
           26
          ],
          "value": [
           124.729,
           0.597,
           26.862,
           280.322,
           81.144,
           35,
           35,
           11.606,
           63.965,
           75.571,
           10.639,
           22.505,
           46.184,
           104.453,
           113.726,
           27.14,
           342.165,
           37.797,
           4.412,
           40.858,
           56.691,
           7.863,
           90.008,
           93.494,
           40.719,
           82.233,
           0.129,
           1.401,
           151.891,
           2.096,
           48.58,
           7.013,
           20.897,
           6.242,
           20.897,
           6.995,
           121.066,
           128.69,
           135.835,
           14.458,
           206.267,
           3.64,
           33.218,
           4.413,
           14.375,
           122.952,
           500,
           139.978,
           504.287,
           107.703,
           611.99,
           56.587,
           77.81,
           193.026,
           70.672,
           59.901,
           19.263,
           19.263,
           59.901,
           0.882,
           400.12,
           46.477,
           525.531,
           787.129,
           79.329,
           9.452,
           182.01,
           19.013,
           289.366,
           100,
           100
          ]
         },
         "node": {
          "color": [
           "rgba(31, 119, 180, 0.8)",
           "rgba(255, 127, 14, 0.8)",
           "rgba(44, 160, 44, 0.8)",
           "rgba(214, 39, 40, 0.8)",
           "rgba(148, 103, 189, 0.8)",
           "rgba(140, 86, 75, 0.8)",
           "rgba(227, 119, 194, 0.8)",
           "rgba(127, 127, 127, 0.8)",
           "rgba(188, 189, 34, 0.8)",
           "rgba(23, 190, 207, 0.8)",
           "rgba(31, 119, 180, 0.8)",
           "rgba(255, 127, 14, 0.8)",
           "rgba(44, 160, 44, 0.8)",
           "rgba(214, 39, 40, 0.8)",
           "rgba(148, 103, 189, 0.8)",
           "rgba(140, 86, 75, 0.8)",
           "rgba(227, 119, 194, 0.8)",
           "rgba(127, 127, 127, 0.8)",
           "rgba(188, 189, 34, 0.8)",
           "rgba(23, 190, 207, 0.8)",
           "rgba(31, 119, 180, 0.8)",
           "rgba(255, 127, 14, 0.8)",
           "rgba(44, 160, 44, 0.8)",
           "rgba(214, 39, 40, 0.8)",
           "rgba(148, 103, 189, 0.8)",
           "rgba(140, 86, 75, 0.8)",
           "rgba(227, 119, 194, 0.8)",
           "rgba(127, 127, 127, 0.8)",
           "rgba(188, 189, 34, 0.8)",
           "rgba(23, 190, 207, 0.8)",
           "rgba(31, 119, 180, 0.8)",
           "rgba(255, 127, 14, 0.8)",
           "rgba(44, 160, 44, 0.8)",
           "rgba(214, 39, 40, 0.8)",
           "rgba(148, 103, 189, 0.8)",
           "rgba(255,0,255, 0.8)",
           "rgba(227, 119, 194, 0.8)",
           "rgba(127, 127, 127, 0.8)",
           "rgba(188, 189, 34, 0.8)",
           "rgba(23, 190, 207, 0.8)",
           "rgba(31, 119, 180, 0.8)",
           "rgba(255, 127, 14, 0.8)",
           "rgba(44, 160, 44, 0.8)",
           "rgba(214, 39, 40, 0.8)",
           "rgba(148, 103, 189, 0.8)",
           "rgba(140, 86, 75, 0.8)",
           "rgba(227, 119, 194, 0.8)",
           "rgba(127, 127, 127, 0.8)"
          ],
          "label": [
           "Agricultural 'waste'",
           "Bio-conversion",
           "Liquid",
           "Losses",
           "Solid",
           "Gas",
           "Biofuel imports",
           "Biomass imports",
           "Coal imports",
           "Coal",
           "Coal reserves",
           "District heating",
           "Industry",
           "Heating and cooling - commercial",
           "Heating and cooling - homes",
           "Electricity grid",
           "Over generation / exports",
           "H2 conversion",
           "Road transport",
           "Agriculture",
           "Rail transport",
           "Lighting & appliances - commercial",
           "Lighting & appliances - homes",
           "Gas imports",
           "Ngas",
           "Gas reserves",
           "Thermal generation",
           "Geothermal",
           "H2",
           "Hydro",
           "International shipping",
           "Domestic aviation",
           "International aviation",
           "National navigation",
           "Marine algae",
           "Nuclear",
           "Oil imports",
           "Oil",
           "Oil reserves",
           "Other waste",
           "Pumped heat",
           "Solar PV",
           "Solar Thermal",
           "Solar",
           "Tidal",
           "UK land based bioenergy",
           "Wave",
           "Wind"
          ],
          "line": {
           "color": "black",
           "width": 0.5
          },
          "pad": 15,
          "thickness": 15
         },
         "type": "sankey",
         "valueformat": ".0f",
         "valuesuffix": "TWh"
        }
       ],
       "layout": {
        "font": {
         "size": 10
        },
        "template": {
         "data": {
          "bar": [
           {
            "error_x": {
             "color": "#2a3f5f"
            },
            "error_y": {
             "color": "#2a3f5f"
            },
            "marker": {
             "line": {
              "color": "#E5ECF6",
              "width": 0.5
             },
             "pattern": {
              "fillmode": "overlay",
              "size": 10,
              "solidity": 0.2
             }
            },
            "type": "bar"
           }
          ],
          "barpolar": [
           {
            "marker": {
             "line": {
              "color": "#E5ECF6",
              "width": 0.5
             },
             "pattern": {
              "fillmode": "overlay",
              "size": 10,
              "solidity": 0.2
             }
            },
            "type": "barpolar"
           }
          ],
          "carpet": [
           {
            "aaxis": {
             "endlinecolor": "#2a3f5f",
             "gridcolor": "white",
             "linecolor": "white",
             "minorgridcolor": "white",
             "startlinecolor": "#2a3f5f"
            },
            "baxis": {
             "endlinecolor": "#2a3f5f",
             "gridcolor": "white",
             "linecolor": "white",
             "minorgridcolor": "white",
             "startlinecolor": "#2a3f5f"
            },
            "type": "carpet"
           }
          ],
          "choropleth": [
           {
            "colorbar": {
             "outlinewidth": 0,
             "ticks": ""
            },
            "type": "choropleth"
           }
          ],
          "contour": [
           {
            "colorbar": {
             "outlinewidth": 0,
             "ticks": ""
            },
            "colorscale": [
             [
              0,
              "#0d0887"
             ],
             [
              0.1111111111111111,
              "#46039f"
             ],
             [
              0.2222222222222222,
              "#7201a8"
             ],
             [
              0.3333333333333333,
              "#9c179e"
             ],
             [
              0.4444444444444444,
              "#bd3786"
             ],
             [
              0.5555555555555556,
              "#d8576b"
             ],
             [
              0.6666666666666666,
              "#ed7953"
             ],
             [
              0.7777777777777778,
              "#fb9f3a"
             ],
             [
              0.8888888888888888,
              "#fdca26"
             ],
             [
              1,
              "#f0f921"
             ]
            ],
            "type": "contour"
           }
          ],
          "contourcarpet": [
           {
            "colorbar": {
             "outlinewidth": 0,
             "ticks": ""
            },
            "type": "contourcarpet"
           }
          ],
          "heatmap": [
           {
            "colorbar": {
             "outlinewidth": 0,
             "ticks": ""
            },
            "colorscale": [
             [
              0,
              "#0d0887"
             ],
             [
              0.1111111111111111,
              "#46039f"
             ],
             [
              0.2222222222222222,
              "#7201a8"
             ],
             [
              0.3333333333333333,
              "#9c179e"
             ],
             [
              0.4444444444444444,
              "#bd3786"
             ],
             [
              0.5555555555555556,
              "#d8576b"
             ],
             [
              0.6666666666666666,
              "#ed7953"
             ],
             [
              0.7777777777777778,
              "#fb9f3a"
             ],
             [
              0.8888888888888888,
              "#fdca26"
             ],
             [
              1,
              "#f0f921"
             ]
            ],
            "type": "heatmap"
           }
          ],
          "heatmapgl": [
           {
            "colorbar": {
             "outlinewidth": 0,
             "ticks": ""
            },
            "colorscale": [
             [
              0,
              "#0d0887"
             ],
             [
              0.1111111111111111,
              "#46039f"
             ],
             [
              0.2222222222222222,
              "#7201a8"
             ],
             [
              0.3333333333333333,
              "#9c179e"
             ],
             [
              0.4444444444444444,
              "#bd3786"
             ],
             [
              0.5555555555555556,
              "#d8576b"
             ],
             [
              0.6666666666666666,
              "#ed7953"
             ],
             [
              0.7777777777777778,
              "#fb9f3a"
             ],
             [
              0.8888888888888888,
              "#fdca26"
             ],
             [
              1,
              "#f0f921"
             ]
            ],
            "type": "heatmapgl"
           }
          ],
          "histogram": [
           {
            "marker": {
             "pattern": {
              "fillmode": "overlay",
              "size": 10,
              "solidity": 0.2
             }
            },
            "type": "histogram"
           }
          ],
          "histogram2d": [
           {
            "colorbar": {
             "outlinewidth": 0,
             "ticks": ""
            },
            "colorscale": [
             [
              0,
              "#0d0887"
             ],
             [
              0.1111111111111111,
              "#46039f"
             ],
             [
              0.2222222222222222,
              "#7201a8"
             ],
             [
              0.3333333333333333,
              "#9c179e"
             ],
             [
              0.4444444444444444,
              "#bd3786"
             ],
             [
              0.5555555555555556,
              "#d8576b"
             ],
             [
              0.6666666666666666,
              "#ed7953"
             ],
             [
              0.7777777777777778,
              "#fb9f3a"
             ],
             [
              0.8888888888888888,
              "#fdca26"
             ],
             [
              1,
              "#f0f921"
             ]
            ],
            "type": "histogram2d"
           }
          ],
          "histogram2dcontour": [
           {
            "colorbar": {
             "outlinewidth": 0,
             "ticks": ""
            },
            "colorscale": [
             [
              0,
              "#0d0887"
             ],
             [
              0.1111111111111111,
              "#46039f"
             ],
             [
              0.2222222222222222,
              "#7201a8"
             ],
             [
              0.3333333333333333,
              "#9c179e"
             ],
             [
              0.4444444444444444,
              "#bd3786"
             ],
             [
              0.5555555555555556,
              "#d8576b"
             ],
             [
              0.6666666666666666,
              "#ed7953"
             ],
             [
              0.7777777777777778,
              "#fb9f3a"
             ],
             [
              0.8888888888888888,
              "#fdca26"
             ],
             [
              1,
              "#f0f921"
             ]
            ],
            "type": "histogram2dcontour"
           }
          ],
          "mesh3d": [
           {
            "colorbar": {
             "outlinewidth": 0,
             "ticks": ""
            },
            "type": "mesh3d"
           }
          ],
          "parcoords": [
           {
            "line": {
             "colorbar": {
              "outlinewidth": 0,
              "ticks": ""
             }
            },
            "type": "parcoords"
           }
          ],
          "pie": [
           {
            "automargin": true,
            "type": "pie"
           }
          ],
          "scatter": [
           {
            "fillpattern": {
             "fillmode": "overlay",
             "size": 10,
             "solidity": 0.2
            },
            "type": "scatter"
           }
          ],
          "scatter3d": [
           {
            "line": {
             "colorbar": {
              "outlinewidth": 0,
              "ticks": ""
             }
            },
            "marker": {
             "colorbar": {
              "outlinewidth": 0,
              "ticks": ""
             }
            },
            "type": "scatter3d"
           }
          ],
          "scattercarpet": [
           {
            "marker": {
             "colorbar": {
              "outlinewidth": 0,
              "ticks": ""
             }
            },
            "type": "scattercarpet"
           }
          ],
          "scattergeo": [
           {
            "marker": {
             "colorbar": {
              "outlinewidth": 0,
              "ticks": ""
             }
            },
            "type": "scattergeo"
           }
          ],
          "scattergl": [
           {
            "marker": {
             "colorbar": {
              "outlinewidth": 0,
              "ticks": ""
             }
            },
            "type": "scattergl"
           }
          ],
          "scattermapbox": [
           {
            "marker": {
             "colorbar": {
              "outlinewidth": 0,
              "ticks": ""
             }
            },
            "type": "scattermapbox"
           }
          ],
          "scatterpolar": [
           {
            "marker": {
             "colorbar": {
              "outlinewidth": 0,
              "ticks": ""
             }
            },
            "type": "scatterpolar"
           }
          ],
          "scatterpolargl": [
           {
            "marker": {
             "colorbar": {
              "outlinewidth": 0,
              "ticks": ""
             }
            },
            "type": "scatterpolargl"
           }
          ],
          "scatterternary": [
           {
            "marker": {
             "colorbar": {
              "outlinewidth": 0,
              "ticks": ""
             }
            },
            "type": "scatterternary"
           }
          ],
          "surface": [
           {
            "colorbar": {
             "outlinewidth": 0,
             "ticks": ""
            },
            "colorscale": [
             [
              0,
              "#0d0887"
             ],
             [
              0.1111111111111111,
              "#46039f"
             ],
             [
              0.2222222222222222,
              "#7201a8"
             ],
             [
              0.3333333333333333,
              "#9c179e"
             ],
             [
              0.4444444444444444,
              "#bd3786"
             ],
             [
              0.5555555555555556,
              "#d8576b"
             ],
             [
              0.6666666666666666,
              "#ed7953"
             ],
             [
              0.7777777777777778,
              "#fb9f3a"
             ],
             [
              0.8888888888888888,
              "#fdca26"
             ],
             [
              1,
              "#f0f921"
             ]
            ],
            "type": "surface"
           }
          ],
          "table": [
           {
            "cells": {
             "fill": {
              "color": "#EBF0F8"
             },
             "line": {
              "color": "white"
             }
            },
            "header": {
             "fill": {
              "color": "#C8D4E3"
             },
             "line": {
              "color": "white"
             }
            },
            "type": "table"
           }
          ]
         },
         "layout": {
          "annotationdefaults": {
           "arrowcolor": "#2a3f5f",
           "arrowhead": 0,
           "arrowwidth": 1
          },
          "autotypenumbers": "strict",
          "coloraxis": {
           "colorbar": {
            "outlinewidth": 0,
            "ticks": ""
           }
          },
          "colorscale": {
           "diverging": [
            [
             0,
             "#8e0152"
            ],
            [
             0.1,
             "#c51b7d"
            ],
            [
             0.2,
             "#de77ae"
            ],
            [
             0.3,
             "#f1b6da"
            ],
            [
             0.4,
             "#fde0ef"
            ],
            [
             0.5,
             "#f7f7f7"
            ],
            [
             0.6,
             "#e6f5d0"
            ],
            [
             0.7,
             "#b8e186"
            ],
            [
             0.8,
             "#7fbc41"
            ],
            [
             0.9,
             "#4d9221"
            ],
            [
             1,
             "#276419"
            ]
           ],
           "sequential": [
            [
             0,
             "#0d0887"
            ],
            [
             0.1111111111111111,
             "#46039f"
            ],
            [
             0.2222222222222222,
             "#7201a8"
            ],
            [
             0.3333333333333333,
             "#9c179e"
            ],
            [
             0.4444444444444444,
             "#bd3786"
            ],
            [
             0.5555555555555556,
             "#d8576b"
            ],
            [
             0.6666666666666666,
             "#ed7953"
            ],
            [
             0.7777777777777778,
             "#fb9f3a"
            ],
            [
             0.8888888888888888,
             "#fdca26"
            ],
            [
             1,
             "#f0f921"
            ]
           ],
           "sequentialminus": [
            [
             0,
             "#0d0887"
            ],
            [
             0.1111111111111111,
             "#46039f"
            ],
            [
             0.2222222222222222,
             "#7201a8"
            ],
            [
             0.3333333333333333,
             "#9c179e"
            ],
            [
             0.4444444444444444,
             "#bd3786"
            ],
            [
             0.5555555555555556,
             "#d8576b"
            ],
            [
             0.6666666666666666,
             "#ed7953"
            ],
            [
             0.7777777777777778,
             "#fb9f3a"
            ],
            [
             0.8888888888888888,
             "#fdca26"
            ],
            [
             1,
             "#f0f921"
            ]
           ]
          },
          "colorway": [
           "#636efa",
           "#EF553B",
           "#00cc96",
           "#ab63fa",
           "#FFA15A",
           "#19d3f3",
           "#FF6692",
           "#B6E880",
           "#FF97FF",
           "#FECB52"
          ],
          "font": {
           "color": "#2a3f5f"
          },
          "geo": {
           "bgcolor": "white",
           "lakecolor": "white",
           "landcolor": "#E5ECF6",
           "showlakes": true,
           "showland": true,
           "subunitcolor": "white"
          },
          "hoverlabel": {
           "align": "left"
          },
          "hovermode": "closest",
          "mapbox": {
           "style": "light"
          },
          "paper_bgcolor": "white",
          "plot_bgcolor": "#E5ECF6",
          "polar": {
           "angularaxis": {
            "gridcolor": "white",
            "linecolor": "white",
            "ticks": ""
           },
           "bgcolor": "#E5ECF6",
           "radialaxis": {
            "gridcolor": "white",
            "linecolor": "white",
            "ticks": ""
           }
          },
          "scene": {
           "xaxis": {
            "backgroundcolor": "#E5ECF6",
            "gridcolor": "white",
            "gridwidth": 2,
            "linecolor": "white",
            "showbackground": true,
            "ticks": "",
            "zerolinecolor": "white"
           },
           "yaxis": {
            "backgroundcolor": "#E5ECF6",
            "gridcolor": "white",
            "gridwidth": 2,
            "linecolor": "white",
            "showbackground": true,
            "ticks": "",
            "zerolinecolor": "white"
           },
           "zaxis": {
            "backgroundcolor": "#E5ECF6",
            "gridcolor": "white",
            "gridwidth": 2,
            "linecolor": "white",
            "showbackground": true,
            "ticks": "",
            "zerolinecolor": "white"
           }
          },
          "shapedefaults": {
           "line": {
            "color": "#2a3f5f"
           }
          },
          "ternary": {
           "aaxis": {
            "gridcolor": "white",
            "linecolor": "white",
            "ticks": ""
           },
           "baxis": {
            "gridcolor": "white",
            "linecolor": "white",
            "ticks": ""
           },
           "bgcolor": "#E5ECF6",
           "caxis": {
            "gridcolor": "white",
            "linecolor": "white",
            "ticks": ""
           }
          },
          "title": {
           "x": 0.05
          },
          "xaxis": {
           "automargin": true,
           "gridcolor": "white",
           "linecolor": "white",
           "ticks": "",
           "title": {
            "standoff": 15
           },
           "zerolinecolor": "white",
           "zerolinewidth": 2
          },
          "yaxis": {
           "automargin": true,
           "gridcolor": "white",
           "linecolor": "white",
           "ticks": "",
           "title": {
            "standoff": 15
           },
           "zerolinecolor": "white",
           "zerolinewidth": 2
          }
         }
        },
        "title": {
         "text": "Energy forecast for 2050<br>Source: Department of Energy & Climate Change, Tom Counsell via <a href='https://bost.ocks.org/mike/sankey/'>Mike Bostock</a>"
        }
       }
      }
     },
     "metadata": {},
     "output_type": "display_data"
    }
   ],
   "source": [
    "import plotly.graph_objects as go\n",
    "import urllib, json\n",
    "\n",
    "url = 'https://raw.githubusercontent.com/plotly/plotly.js/master/test/image/mocks/sankey_energy.json'\n",
    "response = urllib.request.urlopen(url)\n",
    "data = json.loads(response.read())\n",
    "\n",
    "# override gray link colors with 'source' colors\n",
    "opacity = 0.4\n",
    "# change 'magenta' to its 'rgba' value to add opacity\n",
    "data['data'][0]['node']['color'] = ['rgba(255,0,255, 0.8)' if color == \"magenta\" else color for color in data['data'][0]['node']['color']]\n",
    "data['data'][0]['link']['color'] = [data['data'][0]['node']['color'][src].replace(\"0.8\", str(opacity))\n",
    "                                    for src in data['data'][0]['link']['source']]\n",
    "\n",
    "fig = go.Figure(data=[go.Sankey(\n",
    "    valueformat = \".0f\",\n",
    "    valuesuffix = \"TWh\",\n",
    "    # Define nodes\n",
    "    node = dict(\n",
    "      pad = 15,\n",
    "      thickness = 15,\n",
    "      line = dict(color = \"black\", width = 0.5),\n",
    "      label =  data['data'][0]['node']['label'],\n",
    "      color =  data['data'][0]['node']['color']\n",
    "    ),\n",
    "    # Add links\n",
    "    link = dict(\n",
    "      source =  data['data'][0]['link']['source'],\n",
    "      target =  data['data'][0]['link']['target'],\n",
    "      value =  data['data'][0]['link']['value'],\n",
    "      label =  data['data'][0]['link']['label'],\n",
    "      color =  data['data'][0]['link']['color']\n",
    "))])\n",
    "\n",
    "fig.update_layout(title_text=\"Energy forecast for 2050<br>Source: Department of Energy & Climate Change, Tom Counsell via <a href='https://bost.ocks.org/mike/sankey/'>Mike Bostock</a>\",\n",
    "                  font_size=10)\n",
    "fig.show()"
   ]
  },
  {
   "cell_type": "code",
   "execution_count": 17,
   "id": "46314264",
   "metadata": {},
   "outputs": [
    {
     "data": {
      "text/plain": [
       "{'data': [{'type': 'sankey',\n",
       "   'domain': {'x': [0, 1], 'y': [0, 1]},\n",
       "   'orientation': 'h',\n",
       "   'valueformat': '.0f',\n",
       "   'valuesuffix': 'TWh',\n",
       "   'node': {'pad': 15,\n",
       "    'thickness': 15,\n",
       "    'line': {'color': 'black', 'width': 0.5},\n",
       "    'label': [\"Agricultural 'waste'\",\n",
       "     'Bio-conversion',\n",
       "     'Liquid',\n",
       "     'Losses',\n",
       "     'Solid',\n",
       "     'Gas',\n",
       "     'Biofuel imports',\n",
       "     'Biomass imports',\n",
       "     'Coal imports',\n",
       "     'Coal',\n",
       "     'Coal reserves',\n",
       "     'District heating',\n",
       "     'Industry',\n",
       "     'Heating and cooling - commercial',\n",
       "     'Heating and cooling - homes',\n",
       "     'Electricity grid',\n",
       "     'Over generation / exports',\n",
       "     'H2 conversion',\n",
       "     'Road transport',\n",
       "     'Agriculture',\n",
       "     'Rail transport',\n",
       "     'Lighting & appliances - commercial',\n",
       "     'Lighting & appliances - homes',\n",
       "     'Gas imports',\n",
       "     'Ngas',\n",
       "     'Gas reserves',\n",
       "     'Thermal generation',\n",
       "     'Geothermal',\n",
       "     'H2',\n",
       "     'Hydro',\n",
       "     'International shipping',\n",
       "     'Domestic aviation',\n",
       "     'International aviation',\n",
       "     'National navigation',\n",
       "     'Marine algae',\n",
       "     'Nuclear',\n",
       "     'Oil imports',\n",
       "     'Oil',\n",
       "     'Oil reserves',\n",
       "     'Other waste',\n",
       "     'Pumped heat',\n",
       "     'Solar PV',\n",
       "     'Solar Thermal',\n",
       "     'Solar',\n",
       "     'Tidal',\n",
       "     'UK land based bioenergy',\n",
       "     'Wave',\n",
       "     'Wind'],\n",
       "    'color': ['rgba(31, 119, 180, 0.8)',\n",
       "     'rgba(255, 127, 14, 0.8)',\n",
       "     'rgba(44, 160, 44, 0.8)',\n",
       "     'rgba(214, 39, 40, 0.8)',\n",
       "     'rgba(148, 103, 189, 0.8)',\n",
       "     'rgba(140, 86, 75, 0.8)',\n",
       "     'rgba(227, 119, 194, 0.8)',\n",
       "     'rgba(127, 127, 127, 0.8)',\n",
       "     'rgba(188, 189, 34, 0.8)',\n",
       "     'rgba(23, 190, 207, 0.8)',\n",
       "     'rgba(31, 119, 180, 0.8)',\n",
       "     'rgba(255, 127, 14, 0.8)',\n",
       "     'rgba(44, 160, 44, 0.8)',\n",
       "     'rgba(214, 39, 40, 0.8)',\n",
       "     'rgba(148, 103, 189, 0.8)',\n",
       "     'rgba(140, 86, 75, 0.8)',\n",
       "     'rgba(227, 119, 194, 0.8)',\n",
       "     'rgba(127, 127, 127, 0.8)',\n",
       "     'rgba(188, 189, 34, 0.8)',\n",
       "     'rgba(23, 190, 207, 0.8)',\n",
       "     'rgba(31, 119, 180, 0.8)',\n",
       "     'rgba(255, 127, 14, 0.8)',\n",
       "     'rgba(44, 160, 44, 0.8)',\n",
       "     'rgba(214, 39, 40, 0.8)',\n",
       "     'rgba(148, 103, 189, 0.8)',\n",
       "     'rgba(140, 86, 75, 0.8)',\n",
       "     'rgba(227, 119, 194, 0.8)',\n",
       "     'rgba(127, 127, 127, 0.8)',\n",
       "     'rgba(188, 189, 34, 0.8)',\n",
       "     'rgba(23, 190, 207, 0.8)',\n",
       "     'rgba(31, 119, 180, 0.8)',\n",
       "     'rgba(255, 127, 14, 0.8)',\n",
       "     'rgba(44, 160, 44, 0.8)',\n",
       "     'rgba(214, 39, 40, 0.8)',\n",
       "     'rgba(148, 103, 189, 0.8)',\n",
       "     'rgba(255,0,255, 0.8)',\n",
       "     'rgba(227, 119, 194, 0.8)',\n",
       "     'rgba(127, 127, 127, 0.8)',\n",
       "     'rgba(188, 189, 34, 0.8)',\n",
       "     'rgba(23, 190, 207, 0.8)',\n",
       "     'rgba(31, 119, 180, 0.8)',\n",
       "     'rgba(255, 127, 14, 0.8)',\n",
       "     'rgba(44, 160, 44, 0.8)',\n",
       "     'rgba(214, 39, 40, 0.8)',\n",
       "     'rgba(148, 103, 189, 0.8)',\n",
       "     'rgba(140, 86, 75, 0.8)',\n",
       "     'rgba(227, 119, 194, 0.8)',\n",
       "     'rgba(127, 127, 127, 0.8)']},\n",
       "   'link': {'source': [0,\n",
       "     1,\n",
       "     1,\n",
       "     1,\n",
       "     1,\n",
       "     6,\n",
       "     7,\n",
       "     8,\n",
       "     10,\n",
       "     9,\n",
       "     11,\n",
       "     11,\n",
       "     11,\n",
       "     15,\n",
       "     15,\n",
       "     15,\n",
       "     15,\n",
       "     15,\n",
       "     15,\n",
       "     15,\n",
       "     15,\n",
       "     15,\n",
       "     15,\n",
       "     15,\n",
       "     23,\n",
       "     25,\n",
       "     5,\n",
       "     5,\n",
       "     5,\n",
       "     5,\n",
       "     5,\n",
       "     27,\n",
       "     17,\n",
       "     17,\n",
       "     28,\n",
       "     29,\n",
       "     2,\n",
       "     2,\n",
       "     2,\n",
       "     2,\n",
       "     2,\n",
       "     2,\n",
       "     2,\n",
       "     2,\n",
       "     34,\n",
       "     24,\n",
       "     35,\n",
       "     35,\n",
       "     36,\n",
       "     38,\n",
       "     37,\n",
       "     39,\n",
       "     39,\n",
       "     40,\n",
       "     40,\n",
       "     41,\n",
       "     42,\n",
       "     43,\n",
       "     43,\n",
       "     4,\n",
       "     4,\n",
       "     4,\n",
       "     26,\n",
       "     26,\n",
       "     26,\n",
       "     44,\n",
       "     45,\n",
       "     46,\n",
       "     47,\n",
       "     35,\n",
       "     35],\n",
       "    'target': [1,\n",
       "     2,\n",
       "     3,\n",
       "     4,\n",
       "     5,\n",
       "     2,\n",
       "     4,\n",
       "     9,\n",
       "     9,\n",
       "     4,\n",
       "     12,\n",
       "     13,\n",
       "     14,\n",
       "     16,\n",
       "     14,\n",
       "     17,\n",
       "     12,\n",
       "     18,\n",
       "     19,\n",
       "     13,\n",
       "     3,\n",
       "     20,\n",
       "     21,\n",
       "     22,\n",
       "     24,\n",
       "     24,\n",
       "     13,\n",
       "     3,\n",
       "     26,\n",
       "     19,\n",
       "     12,\n",
       "     15,\n",
       "     28,\n",
       "     3,\n",
       "     18,\n",
       "     15,\n",
       "     12,\n",
       "     30,\n",
       "     18,\n",
       "     31,\n",
       "     32,\n",
       "     19,\n",
       "     33,\n",
       "     20,\n",
       "     1,\n",
       "     5,\n",
       "     26,\n",
       "     26,\n",
       "     37,\n",
       "     37,\n",
       "     2,\n",
       "     4,\n",
       "     1,\n",
       "     14,\n",
       "     13,\n",
       "     15,\n",
       "     14,\n",
       "     42,\n",
       "     41,\n",
       "     19,\n",
       "     26,\n",
       "     12,\n",
       "     15,\n",
       "     3,\n",
       "     11,\n",
       "     15,\n",
       "     1,\n",
       "     15,\n",
       "     15,\n",
       "     26,\n",
       "     26],\n",
       "    'value': [124.729,\n",
       "     0.597,\n",
       "     26.862,\n",
       "     280.322,\n",
       "     81.144,\n",
       "     35,\n",
       "     35,\n",
       "     11.606,\n",
       "     63.965,\n",
       "     75.571,\n",
       "     10.639,\n",
       "     22.505,\n",
       "     46.184,\n",
       "     104.453,\n",
       "     113.726,\n",
       "     27.14,\n",
       "     342.165,\n",
       "     37.797,\n",
       "     4.412,\n",
       "     40.858,\n",
       "     56.691,\n",
       "     7.863,\n",
       "     90.008,\n",
       "     93.494,\n",
       "     40.719,\n",
       "     82.233,\n",
       "     0.129,\n",
       "     1.401,\n",
       "     151.891,\n",
       "     2.096,\n",
       "     48.58,\n",
       "     7.013,\n",
       "     20.897,\n",
       "     6.242,\n",
       "     20.897,\n",
       "     6.995,\n",
       "     121.066,\n",
       "     128.69,\n",
       "     135.835,\n",
       "     14.458,\n",
       "     206.267,\n",
       "     3.64,\n",
       "     33.218,\n",
       "     4.413,\n",
       "     14.375,\n",
       "     122.952,\n",
       "     500,\n",
       "     139.978,\n",
       "     504.287,\n",
       "     107.703,\n",
       "     611.99,\n",
       "     56.587,\n",
       "     77.81,\n",
       "     193.026,\n",
       "     70.672,\n",
       "     59.901,\n",
       "     19.263,\n",
       "     19.263,\n",
       "     59.901,\n",
       "     0.882,\n",
       "     400.12,\n",
       "     46.477,\n",
       "     525.531,\n",
       "     787.129,\n",
       "     79.329,\n",
       "     9.452,\n",
       "     182.01,\n",
       "     19.013,\n",
       "     289.366,\n",
       "     100,\n",
       "     100],\n",
       "    'color': ['rgba(31, 119, 180, 0.4)',\n",
       "     'rgba(255, 127, 14, 0.4)',\n",
       "     'rgba(255, 127, 14, 0.4)',\n",
       "     'rgba(255, 127, 14, 0.4)',\n",
       "     'rgba(255, 127, 14, 0.4)',\n",
       "     'rgba(227, 119, 194, 0.4)',\n",
       "     'rgba(127, 127, 127, 0.4)',\n",
       "     'rgba(188, 189, 34, 0.4)',\n",
       "     'rgba(31, 119, 180, 0.4)',\n",
       "     'rgba(23, 190, 207, 0.4)',\n",
       "     'rgba(255, 127, 14, 0.4)',\n",
       "     'rgba(255, 127, 14, 0.4)',\n",
       "     'rgba(255, 127, 14, 0.4)',\n",
       "     'rgba(140, 86, 75, 0.4)',\n",
       "     'rgba(140, 86, 75, 0.4)',\n",
       "     'rgba(140, 86, 75, 0.4)',\n",
       "     'rgba(140, 86, 75, 0.4)',\n",
       "     'rgba(140, 86, 75, 0.4)',\n",
       "     'rgba(140, 86, 75, 0.4)',\n",
       "     'rgba(140, 86, 75, 0.4)',\n",
       "     'rgba(140, 86, 75, 0.4)',\n",
       "     'rgba(140, 86, 75, 0.4)',\n",
       "     'rgba(140, 86, 75, 0.4)',\n",
       "     'rgba(140, 86, 75, 0.4)',\n",
       "     'rgba(214, 39, 40, 0.4)',\n",
       "     'rgba(140, 86, 75, 0.4)',\n",
       "     'rgba(140, 86, 75, 0.4)',\n",
       "     'rgba(140, 86, 75, 0.4)',\n",
       "     'rgba(140, 86, 75, 0.4)',\n",
       "     'rgba(140, 86, 75, 0.4)',\n",
       "     'rgba(140, 86, 75, 0.4)',\n",
       "     'rgba(127, 127, 127, 0.4)',\n",
       "     'rgba(127, 127, 127, 0.4)',\n",
       "     'rgba(127, 127, 127, 0.4)',\n",
       "     'rgba(188, 189, 34, 0.4)',\n",
       "     'rgba(23, 190, 207, 0.4)',\n",
       "     'rgba(44, 160, 44, 0.4)',\n",
       "     'rgba(44, 160, 44, 0.4)',\n",
       "     'rgba(44, 160, 44, 0.4)',\n",
       "     'rgba(44, 160, 44, 0.4)',\n",
       "     'rgba(44, 160, 44, 0.4)',\n",
       "     'rgba(44, 160, 44, 0.4)',\n",
       "     'rgba(44, 160, 44, 0.4)',\n",
       "     'rgba(44, 160, 44, 0.4)',\n",
       "     'rgba(148, 103, 189, 0.4)',\n",
       "     'rgba(148, 103, 189, 0.4)',\n",
       "     'rgba(255,0,255, 0.4)',\n",
       "     'rgba(255,0,255, 0.4)',\n",
       "     'rgba(227, 119, 194, 0.4)',\n",
       "     'rgba(188, 189, 34, 0.4)',\n",
       "     'rgba(127, 127, 127, 0.4)',\n",
       "     'rgba(23, 190, 207, 0.4)',\n",
       "     'rgba(23, 190, 207, 0.4)',\n",
       "     'rgba(31, 119, 180, 0.4)',\n",
       "     'rgba(31, 119, 180, 0.4)',\n",
       "     'rgba(255, 127, 14, 0.4)',\n",
       "     'rgba(44, 160, 44, 0.4)',\n",
       "     'rgba(214, 39, 40, 0.4)',\n",
       "     'rgba(214, 39, 40, 0.4)',\n",
       "     'rgba(148, 103, 189, 0.4)',\n",
       "     'rgba(148, 103, 189, 0.4)',\n",
       "     'rgba(148, 103, 189, 0.4)',\n",
       "     'rgba(227, 119, 194, 0.4)',\n",
       "     'rgba(227, 119, 194, 0.4)',\n",
       "     'rgba(227, 119, 194, 0.4)',\n",
       "     'rgba(148, 103, 189, 0.4)',\n",
       "     'rgba(140, 86, 75, 0.4)',\n",
       "     'rgba(227, 119, 194, 0.4)',\n",
       "     'rgba(127, 127, 127, 0.4)',\n",
       "     'rgba(255,0,255, 0.4)',\n",
       "     'rgba(255,0,255, 0.4)'],\n",
       "    'label': ['stream 1',\n",
       "     '',\n",
       "     '',\n",
       "     '',\n",
       "     'stream 1',\n",
       "     '',\n",
       "     '',\n",
       "     '',\n",
       "     '',\n",
       "     '',\n",
       "     '',\n",
       "     '',\n",
       "     '',\n",
       "     '',\n",
       "     '',\n",
       "     '',\n",
       "     '',\n",
       "     '',\n",
       "     '',\n",
       "     '',\n",
       "     '',\n",
       "     '',\n",
       "     '',\n",
       "     '',\n",
       "     '',\n",
       "     '',\n",
       "     '',\n",
       "     '',\n",
       "     '',\n",
       "     '',\n",
       "     'stream 1',\n",
       "     '',\n",
       "     '',\n",
       "     '',\n",
       "     '',\n",
       "     '',\n",
       "     '',\n",
       "     '',\n",
       "     '',\n",
       "     '',\n",
       "     '',\n",
       "     '',\n",
       "     '',\n",
       "     '',\n",
       "     '',\n",
       "     '',\n",
       "     'Old generation plant (made-up)',\n",
       "     'New generation plant (made-up)',\n",
       "     '',\n",
       "     '',\n",
       "     '',\n",
       "     '',\n",
       "     '',\n",
       "     '',\n",
       "     '',\n",
       "     '',\n",
       "     '',\n",
       "     '',\n",
       "     '',\n",
       "     '',\n",
       "     '',\n",
       "     '',\n",
       "     '',\n",
       "     '',\n",
       "     '',\n",
       "     '',\n",
       "     '',\n",
       "     '',\n",
       "     '',\n",
       "     '',\n",
       "     '']}}],\n",
       " 'layout': {'title': {'text': \"Energy forecast for 2050, UK — Department of Energy & Climate Change<br>Imperfect copy of <a href='https://bost.ocks.org/mike/sankey/'>Mike Bostock's example</a><br>with numerous <a href='https://plotly.com/javascript/'>Plotly</a> features\"},\n",
       "  'width': 1118,\n",
       "  'height': 772,\n",
       "  'font': {'size': 10},\n",
       "  'updatemenus': [{'y': 1,\n",
       "    'buttons': [{'label': 'Light',\n",
       "      'method': 'relayout',\n",
       "      'args': ['paper_bgcolor', 'white']},\n",
       "     {'label': 'Dark',\n",
       "      'method': 'relayout',\n",
       "      'args': ['paper_bgcolor', 'black']}]},\n",
       "   {'y': 0.9,\n",
       "    'buttons': [{'label': 'Thick',\n",
       "      'method': 'restyle',\n",
       "      'args': ['node.thickness', 15]},\n",
       "     {'label': 'Thin', 'method': 'restyle', 'args': ['node.thickness', 8]}]},\n",
       "   {'y': 0.8,\n",
       "    'buttons': [{'label': 'Small gap',\n",
       "      'method': 'restyle',\n",
       "      'args': ['node.pad', 15]},\n",
       "     {'label': 'Large gap', 'method': 'restyle', 'args': ['node.pad', 20]}]},\n",
       "   {'y': 0.7,\n",
       "    'buttons': [{'label': 'Snap',\n",
       "      'method': 'restyle',\n",
       "      'args': ['arrangement', 'snap']},\n",
       "     {'label': 'Perpendicular',\n",
       "      'method': 'restyle',\n",
       "      'args': ['arrangement', 'perpendicular']},\n",
       "     {'label': 'Freeform',\n",
       "      'method': 'restyle',\n",
       "      'args': ['arrangement', 'freeform']},\n",
       "     {'label': 'Fixed',\n",
       "      'method': 'restyle',\n",
       "      'args': ['arrangement', 'fixed']}]},\n",
       "   {'y': 0.6,\n",
       "    'buttons': [{'label': 'Horizontal',\n",
       "      'method': 'restyle',\n",
       "      'args': ['orientation', 'h']},\n",
       "     {'label': 'Vertical',\n",
       "      'method': 'restyle',\n",
       "      'args': ['orientation', 'v']}]}]}}"
      ]
     },
     "execution_count": 17,
     "metadata": {},
     "output_type": "execute_result"
    }
   ],
   "source": [
    "data"
   ]
  }
 ],
 "metadata": {
  "kernelspec": {
   "display_name": "Python 3 (ipykernel)",
   "language": "python",
   "name": "python3"
  },
  "language_info": {
   "codemirror_mode": {
    "name": "ipython",
    "version": 3
   },
   "file_extension": ".py",
   "mimetype": "text/x-python",
   "name": "python",
   "nbconvert_exporter": "python",
   "pygments_lexer": "ipython3",
   "version": "3.11.0"
  }
 },
 "nbformat": 4,
 "nbformat_minor": 5
}
